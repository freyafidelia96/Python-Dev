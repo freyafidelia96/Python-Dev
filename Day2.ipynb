{
 "cells": [
  {
   "cell_type": "code",
   "execution_count": 1,
   "metadata": {},
   "outputs": [
    {
     "name": "stdout",
     "output_type": "stream",
     "text": [
      "o\n"
     ]
    }
   ],
   "source": [
    "print(\"hello\"[-1])"
   ]
  },
  {
   "cell_type": "code",
   "execution_count": 2,
   "metadata": {},
   "outputs": [
    {
     "name": "stdout",
     "output_type": "stream",
     "text": [
      "7.0\n"
     ]
    }
   ],
   "source": [
    "str_num = input(\"Enter a two digit number: \")\n",
    "\n",
    "print(float(str_num[0]) + float(str_num[1]))"
   ]
  },
  {
   "cell_type": "code",
   "execution_count": 3,
   "metadata": {},
   "outputs": [
    {
     "name": "stdout",
     "output_type": "stream",
     "text": [
      "7.0\n"
     ]
    }
   ],
   "source": [
    "print(3 * 3 + 3 / 3 - 3)"
   ]
  },
  {
   "cell_type": "code",
   "execution_count": 4,
   "metadata": {},
   "outputs": [
    {
     "name": "stdout",
     "output_type": "stream",
     "text": [
      "3.0\n"
     ]
    }
   ],
   "source": [
    "print(3 - 3 + 3 / 3 * 3)"
   ]
  },
  {
   "cell_type": "code",
   "execution_count": 6,
   "metadata": {},
   "outputs": [
    {
     "name": "stdout",
     "output_type": "stream",
     "text": [
      "29\n"
     ]
    }
   ],
   "source": [
    "height = input()\n",
    "\n",
    "weight = input()\n",
    "\n",
    "bmi = float(weight) / (float(height)) ** 2\n",
    "print(int(bmi))"
   ]
  },
  {
   "cell_type": "code",
   "execution_count": 9,
   "metadata": {},
   "outputs": [
    {
     "name": "stdout",
     "output_type": "stream",
     "text": [
      "You have 2548 weeks left!\n"
     ]
    }
   ],
   "source": [
    "age = input()\n",
    "\n",
    "total_weeks = 4680\n",
    "\n",
    "weeks_spent = int(age) * 52\n",
    "\n",
    "weeks_left = total_weeks - weeks_spent\n",
    "\n",
    "print(f\"You have {weeks_left} weeks left!\")"
   ]
  },
  {
   "cell_type": "markdown",
   "metadata": {},
   "source": [
    "TIP CALCULATOR"
   ]
  },
  {
   "cell_type": "code",
   "execution_count": 5,
   "metadata": {},
   "outputs": [
    {
     "name": "stdout",
     "output_type": "stream",
     "text": [
      "168.0\n",
      "Each person is to pay 33.6\n"
     ]
    }
   ],
   "source": [
    "bill = input(\"Enter the bill\")\n",
    "\n",
    "rBill = int(bill)\n",
    "\n",
    "tip = input(\"Enter tip percentage\")\n",
    "\n",
    "rTip = int(tip)\n",
    "\n",
    "people = input(\"Bill is to be shared among how many people?\")\n",
    "rPeople = int(people)\n",
    "\n",
    "totalBill = rBill * float(\"1.\" + tip)\n",
    "individual_amount = totalBill / rPeople\n",
    "\n",
    "print(round(totalBill, 2))\n",
    "print(f\"Each person is to pay {round(individual_amount, 2)}\")\n"
   ]
  }
 ],
 "metadata": {
  "kernelspec": {
   "display_name": "base",
   "language": "python",
   "name": "python3"
  },
  "language_info": {
   "codemirror_mode": {
    "name": "ipython",
    "version": 3
   },
   "file_extension": ".py",
   "mimetype": "text/x-python",
   "name": "python",
   "nbconvert_exporter": "python",
   "pygments_lexer": "ipython3",
   "version": "3.11.5"
  }
 },
 "nbformat": 4,
 "nbformat_minor": 2
}
